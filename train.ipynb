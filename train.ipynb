{
 "cells": [
  {
   "cell_type": "code",
   "execution_count": 1,
   "metadata": {
    "ExecuteTime": {
     "end_time": "2021-02-26T03:02:20.907531Z",
     "start_time": "2021-02-26T03:02:18.951189Z"
    },
    "scrolled": true
   },
   "outputs": [],
   "source": [
    "import time\n",
    "import toml\n",
    "import torch as np\n",
    "from torchvision.utils import save_image\n",
    "from torch.utils import data\n",
    "\n",
    "from tools.celeba import CelebALoader\n",
    "from dataset import Split\n",
    "\n",
    "from models.models import create_model\n",
    "from tools.toml import load_option\n",
    "from tools.mask import mask_iter"
   ]
  },
  {
   "cell_type": "markdown",
   "metadata": {},
   "source": [
    "## 数据载入"
   ]
  },
  {
   "cell_type": "code",
   "execution_count": null,
   "metadata": {
    "ExecuteTime": {
     "start_time": "2021-02-26T03:02:18.914Z"
    },
    "scrolled": true
   },
   "outputs": [],
   "source": [
    "header_opt = load_option('options/header.toml')\n",
    "loader = CelebALoader(header_opt.data_root)\n",
    "dataset = Split(loader, header_opt.fine_size)\n",
    "train_data = dataset.train('bbox')\n",
    "trainset = data.DataLoader(train_data,\n",
    "                           batch_size=header_opt.batch_size,\n",
    "                           shuffle=True)\n",
    "maskset = mask_iter(header_opt.mask_root, header_opt.fine_size)\n",
    "print('训练集数量：', len(trainset))\n",
    "print('掩码数量：', len(maskset))"
   ]
  },
  {
   "cell_type": "markdown",
   "metadata": {},
   "source": [
    "## 模型载入"
   ]
  },
  {
   "cell_type": "code",
   "execution_count": null,
   "metadata": {
    "ExecuteTime": {
     "start_time": "2021-02-26T03:02:18.918Z"
    }
   },
   "outputs": [],
   "source": [
    "def mask_op(mask):\n",
    "    mask = mask.cuda()\n",
    "    mask = mask[0][0]\n",
    "    mask = np.unsqueeze(mask, 0)\n",
    "    mask = np.unsqueeze(mask, 1)\n",
    "    mask = mask.byte()\n",
    "    return mask"
   ]
  },
  {
   "cell_type": "code",
   "execution_count": null,
   "metadata": {
    "ExecuteTime": {
     "start_time": "2021-02-26T03:02:18.921Z"
    },
    "scrolled": true
   },
   "outputs": [],
   "source": [
    "model_opt = load_option('options/train2.toml')\n",
    "model = create_model(model_opt)"
   ]
  },
  {
   "cell_type": "code",
   "execution_count": null,
   "metadata": {
    "ExecuteTime": {
     "start_time": "2021-02-26T03:02:18.924Z"
    },
    "scrolled": true
   },
   "outputs": [],
   "source": [
    "opt = load_option('options/train.toml')\n",
    "total_steps = 0\n",
    "iter_start_time = time.time()\n",
    "# 载入已经训练的模型\n",
    "load_epoch = 0\n",
    "model.load(load_epoch)\n",
    "start_epoch = load_epoch + 1\n",
    "for epoch in range(start_epoch, opt.epochs):\n",
    "    epoch_start_time = time.time()\n",
    "    epoch_iter = 0\n",
    "    trainset = data.DataLoader(train_data,\n",
    "                               batch_size=opt.batch_size,\n",
    "                               shuffle=True)\n",
    "    for batch, mask in zip(trainset, maskset):\n",
    "        image = batch[0]\n",
    "        mask = mask_op(mask)\n",
    "        total_steps += header_opt.batch_size\n",
    "        epoch_iter += header_opt.batch_size\n",
    "        # it not only sets the input data with mask, but also sets the latent mask.\n",
    "        model.set_input(image, mask)\n",
    "        model.set_gt_latent()\n",
    "        model.optimize_parameters()\n",
    "        if total_steps % opt.display_freq == 0:\n",
    "            real_A, real_B, fake_B = model.get_current_visuals()\n",
    "            # real_A=input, real_B=ground truth fake_b=output\n",
    "            pic = (np.cat([real_A, real_B, fake_B], dim=0) + 1) / 2.0\n",
    "            save_image_path = f\"{opt.save_dir}/epoch{epoch}-{total_steps}.jpg\"\n",
    "            save_image(pic, save_image_path, nrow=3)\n",
    "        if total_steps % 100 == 0:\n",
    "            errors = model.get_current_errors()\n",
    "            t = (time.time() - iter_start_time) / opt.batch_size\n",
    "            print(f\"Epoch/total_steps: {epoch}/{total_steps}\", dict(errors))\n",
    "    if epoch % opt.save_epoch_freq == 0:\n",
    "        print('保存模型 Epoch {epoch}, iters {total_steps')\n",
    "        model.save(epoch)\n",
    "    print('Epoch/Epochs {epoch}/{opt.epochs} 花费时间：{time.time() - epoch_start_time}s')\n",
    "    model.update_learning_rate()"
   ]
  },
  {
   "cell_type": "code",
   "execution_count": null,
   "metadata": {},
   "outputs": [],
   "source": []
  }
 ],
 "metadata": {
  "kernelspec": {
   "display_name": "torch",
   "language": "python",
   "name": "torch"
  },
  "language_info": {
   "codemirror_mode": {
    "name": "ipython",
    "version": 3
   },
   "file_extension": ".py",
   "mimetype": "text/x-python",
   "name": "python",
   "nbconvert_exporter": "python",
   "pygments_lexer": "ipython3",
   "version": "3.8.0"
  },
  "toc": {
   "base_numbering": 1,
   "nav_menu": {},
   "number_sections": true,
   "sideBar": true,
   "skip_h1_title": false,
   "title_cell": "Table of Contents",
   "title_sidebar": "Contents",
   "toc_cell": false,
   "toc_position": {},
   "toc_section_display": true,
   "toc_window_display": false
  }
 },
 "nbformat": 4,
 "nbformat_minor": 4
}
