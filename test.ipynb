{
 "cells": [
  {
   "cell_type": "code",
   "execution_count": null,
   "metadata": {
    "ExecuteTime": {
     "end_time": "2021-02-26T01:25:26.331326Z",
     "start_time": "2021-02-26T01:25:24.527665Z"
    }
   },
   "outputs": [],
   "source": [
    "import toml\n",
    "from torch.utils import data\n",
    "\n",
    "from tools.celeba import CelebALoader\n",
    "from dataset import Split\n",
    "\n",
    "from models.models import create_model\n",
    "from tools.toml import load_option\n",
    "from tools.mask import mask_iter"
   ]
  },
  {
   "cell_type": "code",
   "execution_count": null,
   "metadata": {
    "ExecuteTime": {
     "end_time": "2021-02-26T01:25:36.595636Z",
     "start_time": "2021-02-26T01:25:26.431756Z"
    }
   },
   "outputs": [],
   "source": [
    "header_opt = load_option('options/header.toml')\n",
    "loader = CelebALoader(header_opt.data_root)\n",
    "dataset = Split(loader, header_opt.fine_size)"
   ]
  },
  {
   "cell_type": "code",
   "execution_count": null,
   "metadata": {
    "ExecuteTime": {
     "end_time": "2021-02-26T01:26:14.429106Z",
     "start_time": "2021-02-26T01:26:14.141729Z"
    }
   },
   "outputs": [],
   "source": [
    "val_data = dataset.train(['attr'], header_opt.fine_size)"
   ]
  },
  {
   "cell_type": "code",
   "execution_count": null,
   "metadata": {
    "ExecuteTime": {
     "end_time": "2021-02-26T01:29:15.465777Z",
     "start_time": "2021-02-26T01:29:15.165481Z"
    },
    "scrolled": true
   },
   "outputs": [],
   "source": [
    "ty = [\"attr\", \"identity\", \"bbox\", \"landmarks\"]\n",
    "val_data = dataset.train(ty)\n",
    "val_data"
   ]
  },
  {
   "cell_type": "code",
   "execution_count": null,
   "metadata": {
    "ExecuteTime": {
     "end_time": "2021-02-26T01:29:29.455494Z",
     "start_time": "2021-02-26T01:29:29.428430Z"
    },
    "scrolled": true
   },
   "outputs": [],
   "source": [
    "val_data[0][1]"
   ]
  },
  {
   "cell_type": "code",
   "execution_count": null,
   "metadata": {
    "ExecuteTime": {
     "end_time": "2021-02-26T01:30:14.904837Z",
     "start_time": "2021-02-26T01:30:14.622833Z"
    }
   },
   "outputs": [],
   "source": [
    "val_data = dataset.valid('bbox')\n",
    "valset = data.DataLoader(val_data,\n",
    "                         batch_size=header_opt.batch_size,\n",
    "                         shuffle=True)\n",
    "maskset = mask_iter(header_opt.mask_root, header_opt.fine_size)\n",
    "print('训练集数量：', len(valset))\n",
    "print('掩码数量：', len(maskset))"
   ]
  },
  {
   "cell_type": "code",
   "execution_count": null,
   "metadata": {
    "ExecuteTime": {
     "end_time": "2021-02-26T01:30:19.988839Z",
     "start_time": "2021-02-26T01:30:15.829437Z"
    }
   },
   "outputs": [],
   "source": [
    "import time\n",
    "import torch\n",
    "import torchvision\n",
    "model_opt = load_option('options/train2.toml')\n",
    "\n",
    "model = create_model(model_opt)"
   ]
  },
  {
   "cell_type": "code",
   "execution_count": null,
   "metadata": {
    "ExecuteTime": {
     "end_time": "2021-02-26T01:30:23.350083Z",
     "start_time": "2021-02-26T01:30:22.773400Z"
    }
   },
   "outputs": [],
   "source": [
    "load_epoch = 0\n",
    "model.load(load_epoch)"
   ]
  },
  {
   "cell_type": "code",
   "execution_count": null,
   "metadata": {
    "ExecuteTime": {
     "end_time": "2021-02-26T01:30:23.907959Z",
     "start_time": "2021-02-26T01:30:23.892967Z"
    }
   },
   "outputs": [],
   "source": [
    "import time\n",
    "from pathlib import Path"
   ]
  },
  {
   "cell_type": "code",
   "execution_count": null,
   "metadata": {},
   "outputs": [],
   "source": [
    "def mask_op(mask):\n",
    "    mask = mask.cuda()\n",
    "    mask = mask[0][0]\n",
    "    mask = torch.unsqueeze(mask, 0)\n",
    "    mask = torch.unsqueeze(mask, 1)\n",
    "    mask = mask.byte()\n",
    "    return mask"
   ]
  },
  {
   "cell_type": "code",
   "execution_count": null,
   "metadata": {
    "ExecuteTime": {
     "end_time": "2021-02-26T01:35:55.277892Z",
     "start_time": "2021-02-26T01:34:42.260151Z"
    },
    "scrolled": true
   },
   "outputs": [],
   "source": [
    "save_dir = '../measure/true'\n",
    "save_dir = Path(save_dir)\n",
    "if not save_dir.exists():\n",
    "    save_dir.mkdir(parents=True, exist_ok=True)\n",
    "\n",
    "epoch = 1\n",
    "i = 0\n",
    "total_steps = 0\n",
    "for batch, mask in zip(valset, maskset):\n",
    "    iter_start_time = time.time()\n",
    "    image = batch[0]\n",
    "    image = image.cuda()\n",
    "    mask = mask_op(mask)\n",
    "    model.set_input(image, mask)\n",
    "    model.set_gt_latent()\n",
    "    model.test()\n",
    "    real_A, real_B, fake_B = model.get_current_visuals()\n",
    "    total_steps += header_opt.batch_size\n",
    "    pic = (torch.cat([real_A, real_B, fake_B], dim=0) + 1) / 2.0\n",
    "    torchvision.utils.save_image(pic, f\"{save_dir}/epoch{epoch}-{total_steps}.jpg\", nrow=1)"
   ]
  },
  {
   "cell_type": "code",
   "execution_count": null,
   "metadata": {},
   "outputs": [],
   "source": []
  }
 ],
 "metadata": {
  "anaconda-cloud": {},
  "kernelspec": {
   "display_name": "torch",
   "language": "python",
   "name": "torch"
  },
  "language_info": {
   "codemirror_mode": {
    "name": "ipython",
    "version": 3
   },
   "file_extension": ".py",
   "mimetype": "text/x-python",
   "name": "python",
   "nbconvert_exporter": "python",
   "pygments_lexer": "ipython3",
   "version": "3.8.0"
  },
  "toc": {
   "base_numbering": 1,
   "nav_menu": {},
   "number_sections": true,
   "sideBar": true,
   "skip_h1_title": false,
   "title_cell": "Table of Contents",
   "title_sidebar": "Contents",
   "toc_cell": false,
   "toc_position": {},
   "toc_section_display": true,
   "toc_window_display": false
  }
 },
 "nbformat": 4,
 "nbformat_minor": 1
}
