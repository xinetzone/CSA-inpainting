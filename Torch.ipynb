{
 "cells": [
  {
   "cell_type": "code",
   "execution_count": 1,
   "metadata": {
    "ExecuteTime": {
     "end_time": "2021-03-22T05:20:11.001042Z",
     "start_time": "2021-03-22T05:20:09.893536Z"
    }
   },
   "outputs": [],
   "source": [
    "def import_np(module_name):\n",
    "    if module_name == 'mxnet':\n",
    "        from mxnet import np, npx\n",
    "        npx.set_np()\n",
    "        np.randn = np.random.randn\n",
    "        return np\n",
    "    elif module_name == 'torch':\n",
    "        import torch as np\n",
    "        np.array = np.tensor\n",
    "        np.concatenate = np.cat\n",
    "        return np\n",
    "    elif module_name == 'tensorflow':\n",
    "        from tensorflow.experimental import numpy as np\n",
    "        return np\n",
    "\n",
    "\n",
    "np = import_np('torch')  # 'mxnet', 'torch', 'tensorflow'"
   ]
  },
  {
   "cell_type": "code",
   "execution_count": 2,
   "metadata": {
    "ExecuteTime": {
     "end_time": "2021-03-22T05:20:11.016035Z",
     "start_time": "2021-03-22T05:20:11.004041Z"
    }
   },
   "outputs": [],
   "source": [
    "def synthetic_data(w, b, num_examples):  #@save\n",
    "    \"\"\"生成 y = Xw + b + 噪声。\"\"\"\n",
    "    X = np.normal(0, 1, (num_examples, len(w)))\n",
    "    y = np.matmul(X, w) + b\n",
    "    y += np.normal(0, 0.01, y.shape)\n",
    "    return X, y.reshape((-1, 1))\n",
    "\n",
    "true_w = np.array([2, -3.4])\n",
    "true_b = 4.2\n",
    "features, labels = synthetic_data(true_w, true_b, 1000)"
   ]
  },
  {
   "cell_type": "code",
   "execution_count": null,
   "metadata": {},
   "outputs": [],
   "source": []
  }
 ],
 "metadata": {
  "kernelspec": {
   "display_name": "torch",
   "language": "python",
   "name": "torch"
  },
  "language_info": {
   "codemirror_mode": {
    "name": "ipython",
    "version": 3
   },
   "file_extension": ".py",
   "mimetype": "text/x-python",
   "name": "python",
   "nbconvert_exporter": "python",
   "pygments_lexer": "ipython3",
   "version": "3.8.0"
  },
  "toc": {
   "base_numbering": 1,
   "nav_menu": {},
   "number_sections": true,
   "sideBar": true,
   "skip_h1_title": false,
   "title_cell": "Table of Contents",
   "title_sidebar": "Contents",
   "toc_cell": false,
   "toc_position": {},
   "toc_section_display": true,
   "toc_window_display": false
  }
 },
 "nbformat": 4,
 "nbformat_minor": 4
}
