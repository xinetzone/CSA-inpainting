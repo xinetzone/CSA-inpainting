{
 "cells": [
  {
   "cell_type": "code",
   "execution_count": 1,
   "metadata": {
    "ExecuteTime": {
     "end_time": "2021-03-20T02:59:54.564239Z",
     "start_time": "2021-03-20T02:59:54.249380Z"
    }
   },
   "outputs": [
    {
     "name": "stdout",
     "output_type": "stream",
     "text": [
      "Time elapsed:0.030001163482666016\n"
     ]
    }
   ],
   "source": [
    "import numpy as np\n",
    "import time\n",
    "import timeit\n",
    "\n",
    "my_arr = np.arange(1000000)\n",
    "\n",
    "time_start = time.time()\n",
    "for _ in range(10):\n",
    "    my_arr2 = my_arr * 2\n",
    "time_end = time.time()\n",
    "print(\"Time elapsed:\" + str(time_end - time_start))"
   ]
  },
  {
   "cell_type": "code",
   "execution_count": 2,
   "metadata": {
    "ExecuteTime": {
     "end_time": "2021-03-20T03:02:09.581795Z",
     "start_time": "2021-03-20T03:02:08.322740Z"
    }
   },
   "outputs": [
    {
     "data": {
      "text/plain": [
       "0.3404115000000161"
      ]
     },
     "execution_count": 2,
     "metadata": {},
     "output_type": "execute_result"
    }
   ],
   "source": [
    "import timeit\n",
    "timeit.timeit('\"-\".join(str(n) for n in range(100))', number=10000)\n",
    "\n",
    "timeit.timeit('\"-\".join([str(n) for n in range(100)])', number=10000)\n",
    "\n",
    "timeit.timeit('\"-\".join(map(str, range(100)))', number=10000)"
   ]
  },
  {
   "cell_type": "code",
   "execution_count": 3,
   "metadata": {
    "ExecuteTime": {
     "end_time": "2021-03-20T03:03:15.134080Z",
     "start_time": "2021-03-20T03:03:15.030949Z"
    }
   },
   "outputs": [],
   "source": [
    "timeit.timeit()"
   ]
  },
  {
   "cell_type": "code",
   "execution_count": 9,
   "metadata": {
    "ExecuteTime": {
     "end_time": "2021-03-20T05:59:06.981243Z",
     "start_time": "2021-03-20T05:59:06.971248Z"
    }
   },
   "outputs": [],
   "source": [
    "a = 2\n",
    "b= 343"
   ]
  },
  {
   "cell_type": "code",
   "execution_count": 10,
   "metadata": {
    "ExecuteTime": {
     "end_time": "2021-03-20T05:59:07.441672Z",
     "start_time": "2021-03-20T05:59:07.425680Z"
    }
   },
   "outputs": [
    {
     "data": {
      "text/plain": [
       "686"
      ]
     },
     "execution_count": 10,
     "metadata": {},
     "output_type": "execute_result"
    }
   ],
   "source": [
    "c = a * b\n",
    "c"
   ]
  },
  {
   "cell_type": "code",
   "execution_count": null,
   "metadata": {},
   "outputs": [],
   "source": []
  }
 ],
 "metadata": {
  "kernelspec": {
   "display_name": "Python 3",
   "language": "python",
   "name": "python3"
  },
  "language_info": {
   "codemirror_mode": {
    "name": "ipython",
    "version": 3
   },
   "file_extension": ".py",
   "mimetype": "text/x-python",
   "name": "python",
   "nbconvert_exporter": "python",
   "pygments_lexer": "ipython3",
   "version": "3.8.5"
  },
  "toc": {
   "base_numbering": 1,
   "nav_menu": {},
   "number_sections": true,
   "sideBar": true,
   "skip_h1_title": false,
   "title_cell": "Table of Contents",
   "title_sidebar": "Contents",
   "toc_cell": false,
   "toc_position": {},
   "toc_section_display": true,
   "toc_window_display": false
  }
 },
 "nbformat": 4,
 "nbformat_minor": 4
}
